{
 "cells": [
  {
   "cell_type": "code",
   "execution_count": null,
   "id": "625257df",
   "metadata": {},
   "outputs": [],
   "source": [
    "# Se a importação de chefboost falhar mesmo dentro do ambiente virtual, descomente essa linha e execute essa celula\n",
    "\n",
    "%pip install chefboost\n"
   ]
  },
  {
   "cell_type": "code",
   "execution_count": 6,
   "id": "5017abd5",
   "metadata": {},
   "outputs": [],
   "source": [
    "# Importando as bibliotecas do projeto\n",
    "\n",
    "import pandas as pd\n",
    "import matplotlib.pyplot as plt\n",
    "from chefboost import Chefboost as chef\n"
   ]
  },
  {
   "cell_type": "code",
   "execution_count": 7,
   "id": "fd87aa94",
   "metadata": {},
   "outputs": [
    {
     "data": {
      "text/html": [
       "<div>\n",
       "<style scoped>\n",
       "    .dataframe tbody tr th:only-of-type {\n",
       "        vertical-align: middle;\n",
       "    }\n",
       "\n",
       "    .dataframe tbody tr th {\n",
       "        vertical-align: top;\n",
       "    }\n",
       "\n",
       "    .dataframe thead th {\n",
       "        text-align: right;\n",
       "    }\n",
       "</style>\n",
       "<table border=\"1\" class=\"dataframe\">\n",
       "  <thead>\n",
       "    <tr style=\"text-align: right;\">\n",
       "      <th></th>\n",
       "      <th>Outlook</th>\n",
       "      <th>Temp.</th>\n",
       "      <th>Humidity</th>\n",
       "      <th>Wind</th>\n",
       "      <th>Decision</th>\n",
       "    </tr>\n",
       "  </thead>\n",
       "  <tbody>\n",
       "    <tr>\n",
       "      <th>0</th>\n",
       "      <td>Sunny</td>\n",
       "      <td>Hot</td>\n",
       "      <td>High</td>\n",
       "      <td>Weak</td>\n",
       "      <td>No</td>\n",
       "    </tr>\n",
       "    <tr>\n",
       "      <th>1</th>\n",
       "      <td>Sunny</td>\n",
       "      <td>Hot</td>\n",
       "      <td>High</td>\n",
       "      <td>Strong</td>\n",
       "      <td>No</td>\n",
       "    </tr>\n",
       "    <tr>\n",
       "      <th>2</th>\n",
       "      <td>Overcast</td>\n",
       "      <td>Hot</td>\n",
       "      <td>High</td>\n",
       "      <td>Weak</td>\n",
       "      <td>Yes</td>\n",
       "    </tr>\n",
       "    <tr>\n",
       "      <th>3</th>\n",
       "      <td>Rain</td>\n",
       "      <td>Mild</td>\n",
       "      <td>High</td>\n",
       "      <td>Weak</td>\n",
       "      <td>Yes</td>\n",
       "    </tr>\n",
       "    <tr>\n",
       "      <th>4</th>\n",
       "      <td>Rain</td>\n",
       "      <td>Cool</td>\n",
       "      <td>Normal</td>\n",
       "      <td>Weak</td>\n",
       "      <td>Yes</td>\n",
       "    </tr>\n",
       "  </tbody>\n",
       "</table>\n",
       "</div>"
      ],
      "text/plain": [
       "    Outlook Temp. Humidity    Wind Decision\n",
       "0     Sunny   Hot     High    Weak       No\n",
       "1     Sunny   Hot     High  Strong       No\n",
       "2  Overcast   Hot     High    Weak      Yes\n",
       "3      Rain  Mild     High    Weak      Yes\n",
       "4      Rain  Cool   Normal    Weak      Yes"
      ]
     },
     "execution_count": 7,
     "metadata": {},
     "output_type": "execute_result"
    }
   ],
   "source": [
    "# Importando o arquivo csv\n",
    "\n",
    "df = pd.read_csv('../data.csv', sep=';')\n",
    "df.head()"
   ]
  },
  {
   "cell_type": "code",
   "execution_count": null,
   "id": "6e23a160",
   "metadata": {},
   "outputs": [],
   "source": [
    "# Configurando o e gerando o modelo para rodar o algoritmo ID3\n",
    "\n",
    "config = {'algorithm': 'ID3'}\n",
    "model = chef.fit(df, config = config, target_label = 'Risco')"
   ]
  },
  {
   "cell_type": "code",
   "execution_count": null,
   "id": "8bf19206",
   "metadata": {},
   "outputs": [],
   "source": [
    "# Configurando o e gerando o modelo para rodar o algoritmo C4.5\n",
    "\n",
    "config = {'algorithm': 'C4.5'}\n",
    "model = chef.fit(df, config = config, target_label = 'Risco')"
   ]
  }
 ],
 "metadata": {
  "kernelspec": {
   "display_name": "Python 3 (ipykernel)",
   "language": "python",
   "name": "python3"
  },
  "language_info": {
   "codemirror_mode": {
    "name": "ipython",
    "version": 3
   },
   "file_extension": ".py",
   "mimetype": "text/x-python",
   "name": "python",
   "nbconvert_exporter": "python",
   "pygments_lexer": "ipython3",
   "version": "3.10.12"
  }
 },
 "nbformat": 4,
 "nbformat_minor": 5
}
