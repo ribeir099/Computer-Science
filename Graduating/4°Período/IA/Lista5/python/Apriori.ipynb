{
 "cells": [
  {
   "cell_type": "markdown",
   "metadata": {},
   "source": [
    "# Algoritmo Apriori"
   ]
  },
  {
   "cell_type": "code",
   "execution_count": 27,
   "metadata": {},
   "outputs": [],
   "source": [
    "# Importando as libs que serão usadas\n",
    "import pandas as pd\n",
    "import numpy as np"
   ]
  },
  {
   "cell_type": "code",
   "execution_count": 28,
   "metadata": {},
   "outputs": [],
   "source": [
    "# Importando as funções que serão usadas no código\n",
    "\n",
    "from apyori import apriori"
   ]
  },
  {
   "cell_type": "code",
   "execution_count": 29,
   "metadata": {},
   "outputs": [
    {
     "data": {
      "text/html": [
       "<div>\n",
       "<style scoped>\n",
       "    .dataframe tbody tr th:only-of-type {\n",
       "        vertical-align: middle;\n",
       "    }\n",
       "\n",
       "    .dataframe tbody tr th {\n",
       "        vertical-align: top;\n",
       "    }\n",
       "\n",
       "    .dataframe thead th {\n",
       "        text-align: right;\n",
       "    }\n",
       "</style>\n",
       "<table border=\"1\" class=\"dataframe\">\n",
       "  <thead>\n",
       "    <tr style=\"text-align: right;\">\n",
       "      <th></th>\n",
       "      <th>Leite</th>\n",
       "      <th>Café</th>\n",
       "      <th>Cerveja</th>\n",
       "      <th>Pão</th>\n",
       "      <th>Manteiga</th>\n",
       "      <th>Arroz</th>\n",
       "      <th>Feijão</th>\n",
       "    </tr>\n",
       "  </thead>\n",
       "  <tbody>\n",
       "    <tr>\n",
       "      <th>0</th>\n",
       "      <td>Não</td>\n",
       "      <td>Sim</td>\n",
       "      <td>Não</td>\n",
       "      <td>Sim</td>\n",
       "      <td>Sim</td>\n",
       "      <td>Não</td>\n",
       "      <td>Não</td>\n",
       "    </tr>\n",
       "    <tr>\n",
       "      <th>1</th>\n",
       "      <td>Sim</td>\n",
       "      <td>Não</td>\n",
       "      <td>Sim</td>\n",
       "      <td>Sim</td>\n",
       "      <td>Sim</td>\n",
       "      <td>Não</td>\n",
       "      <td>Não</td>\n",
       "    </tr>\n",
       "    <tr>\n",
       "      <th>2</th>\n",
       "      <td>Não</td>\n",
       "      <td>Sim</td>\n",
       "      <td>Não</td>\n",
       "      <td>Sim</td>\n",
       "      <td>Sim</td>\n",
       "      <td>Não</td>\n",
       "      <td>Não</td>\n",
       "    </tr>\n",
       "    <tr>\n",
       "      <th>3</th>\n",
       "      <td>Sim</td>\n",
       "      <td>Sim</td>\n",
       "      <td>Não</td>\n",
       "      <td>Sim</td>\n",
       "      <td>Sim</td>\n",
       "      <td>Não</td>\n",
       "      <td>Não</td>\n",
       "    </tr>\n",
       "    <tr>\n",
       "      <th>4</th>\n",
       "      <td>Não</td>\n",
       "      <td>Não</td>\n",
       "      <td>Sim</td>\n",
       "      <td>Não</td>\n",
       "      <td>Não</td>\n",
       "      <td>Não</td>\n",
       "      <td>Não</td>\n",
       "    </tr>\n",
       "  </tbody>\n",
       "</table>\n",
       "</div>"
      ],
      "text/plain": [
       "  Leite Café Cerveja  Pão Manteiga Arroz Feijão\n",
       "0   Não  Sim     Não  Sim      Sim   Não    Não\n",
       "1   Sim  Não     Sim  Sim      Sim   Não    Não\n",
       "2   Não  Sim     Não  Sim      Sim   Não    Não\n",
       "3   Sim  Sim     Não  Sim      Sim   Não    Não\n",
       "4   Não  Não     Sim  Não      Não   Não    Não"
      ]
     },
     "execution_count": 29,
     "metadata": {},
     "output_type": "execute_result"
    }
   ],
   "source": [
    "# Importando a base de dados\n",
    "\n",
    "df = pd.read_csv('data.csv', sep=';')\n",
    "df.head(5)"
   ]
  },
  {
   "cell_type": "code",
   "execution_count": 30,
   "metadata": {},
   "outputs": [
    {
     "data": {
      "text/plain": [
       "[['Café', 'Pão', 'Manteiga'],\n",
       " ['Leite', 'Cerveja', 'Pão', 'Manteiga'],\n",
       " ['Café', 'Pão', 'Manteiga'],\n",
       " ['Leite', 'Café', 'Pão', 'Manteiga'],\n",
       " ['Cerveja'],\n",
       " ['Manteiga'],\n",
       " ['Pão'],\n",
       " ['Feijão'],\n",
       " ['Arroz', 'Feijão'],\n",
       " ['Arroz']]"
      ]
     },
     "execution_count": 30,
     "metadata": {},
     "output_type": "execute_result"
    }
   ],
   "source": [
    "# Transformando o dataframe em lista\n",
    "\n",
    "transacoes = []\n",
    "\n",
    "for i in range(len(df)):\n",
    "    colunas_sim = []\n",
    "    for j in range(df.shape[1]):\n",
    "        if(df.values[i, j] == 'Sim'):\n",
    "            colunas_sim.append(df.columns[j])\n",
    "    transacoes.append(colunas_sim)\n",
    "\n",
    "transacoes"
   ]
  },
  {
   "cell_type": "code",
   "execution_count": 31,
   "metadata": {},
   "outputs": [
    {
     "name": "stdout",
     "output_type": "stream",
     "text": [
      "Numero de regras: 4\n",
      "[RelationRecord(items=frozenset({'Café', 'Manteiga'}), support=0.3, ordered_statistics=[OrderedStatistic(items_base=frozenset({'Café'}), items_add=frozenset({'Manteiga'}), confidence=1.0, lift=2.0)]), RelationRecord(items=frozenset({'Pão', 'Café'}), support=0.3, ordered_statistics=[OrderedStatistic(items_base=frozenset({'Café'}), items_add=frozenset({'Pão'}), confidence=1.0, lift=2.0)]), RelationRecord(items=frozenset({'Pão', 'Manteiga'}), support=0.4, ordered_statistics=[OrderedStatistic(items_base=frozenset({'Manteiga'}), items_add=frozenset({'Pão'}), confidence=0.8, lift=1.6), OrderedStatistic(items_base=frozenset({'Pão'}), items_add=frozenset({'Manteiga'}), confidence=0.8, lift=1.6)]), RelationRecord(items=frozenset({'Pão', 'Café', 'Manteiga'}), support=0.3, ordered_statistics=[OrderedStatistic(items_base=frozenset({'Café'}), items_add=frozenset({'Pão', 'Manteiga'}), confidence=1.0, lift=2.5), OrderedStatistic(items_base=frozenset({'Café', 'Manteiga'}), items_add=frozenset({'Pão'}), confidence=1.0, lift=2.0), OrderedStatistic(items_base=frozenset({'Pão', 'Café'}), items_add=frozenset({'Manteiga'}), confidence=1.0, lift=2.0)])]\n"
     ]
    }
   ],
   "source": [
    "# Executando o algoritmo Apriori\n",
    "\n",
    "rules = apriori(transacoes, min_support=0.3, min_confidence=0.8)\n",
    "results = list(rules)\n",
    "\n",
    "print(f\"Numero de regras: {len(results)}\")\n",
    "print(results)"
   ]
  },
  {
   "cell_type": "code",
   "execution_count": 32,
   "metadata": {},
   "outputs": [
    {
     "data": {
      "text/html": [
       "<div>\n",
       "<style scoped>\n",
       "    .dataframe tbody tr th:only-of-type {\n",
       "        vertical-align: middle;\n",
       "    }\n",
       "\n",
       "    .dataframe tbody tr th {\n",
       "        vertical-align: top;\n",
       "    }\n",
       "\n",
       "    .dataframe thead th {\n",
       "        text-align: right;\n",
       "    }\n",
       "</style>\n",
       "<table border=\"1\" class=\"dataframe\">\n",
       "  <thead>\n",
       "    <tr style=\"text-align: right;\">\n",
       "      <th></th>\n",
       "      <th>Antecedente</th>\n",
       "      <th>Consequente</th>\n",
       "      <th>suporte</th>\n",
       "      <th>confianca</th>\n",
       "      <th>lift</th>\n",
       "    </tr>\n",
       "  </thead>\n",
       "  <tbody>\n",
       "    <tr>\n",
       "      <th>0</th>\n",
       "      <td>[Café]</td>\n",
       "      <td>[Manteiga]</td>\n",
       "      <td>0.3</td>\n",
       "      <td>1.0</td>\n",
       "      <td>2.0</td>\n",
       "    </tr>\n",
       "    <tr>\n",
       "      <th>1</th>\n",
       "      <td>[Café]</td>\n",
       "      <td>[Pão]</td>\n",
       "      <td>0.3</td>\n",
       "      <td>1.0</td>\n",
       "      <td>2.0</td>\n",
       "    </tr>\n",
       "    <tr>\n",
       "      <th>2</th>\n",
       "      <td>[Manteiga]</td>\n",
       "      <td>[Pão]</td>\n",
       "      <td>0.4</td>\n",
       "      <td>0.8</td>\n",
       "      <td>1.6</td>\n",
       "    </tr>\n",
       "    <tr>\n",
       "      <th>3</th>\n",
       "      <td>[Pão]</td>\n",
       "      <td>[Manteiga]</td>\n",
       "      <td>0.4</td>\n",
       "      <td>0.8</td>\n",
       "      <td>1.6</td>\n",
       "    </tr>\n",
       "    <tr>\n",
       "      <th>4</th>\n",
       "      <td>[Café]</td>\n",
       "      <td>[Pão, Manteiga]</td>\n",
       "      <td>0.3</td>\n",
       "      <td>1.0</td>\n",
       "      <td>2.5</td>\n",
       "    </tr>\n",
       "    <tr>\n",
       "      <th>5</th>\n",
       "      <td>[Café, Manteiga]</td>\n",
       "      <td>[Pão]</td>\n",
       "      <td>0.3</td>\n",
       "      <td>1.0</td>\n",
       "      <td>2.0</td>\n",
       "    </tr>\n",
       "    <tr>\n",
       "      <th>6</th>\n",
       "      <td>[Pão, Café]</td>\n",
       "      <td>[Manteiga]</td>\n",
       "      <td>0.3</td>\n",
       "      <td>1.0</td>\n",
       "      <td>2.0</td>\n",
       "    </tr>\n",
       "  </tbody>\n",
       "</table>\n",
       "</div>"
      ],
      "text/plain": [
       "        Antecedente      Consequente  suporte  confianca  lift\n",
       "0            [Café]       [Manteiga]      0.3        1.0   2.0\n",
       "1            [Café]            [Pão]      0.3        1.0   2.0\n",
       "2        [Manteiga]            [Pão]      0.4        0.8   1.6\n",
       "3             [Pão]       [Manteiga]      0.4        0.8   1.6\n",
       "4            [Café]  [Pão, Manteiga]      0.3        1.0   2.5\n",
       "5  [Café, Manteiga]            [Pão]      0.3        1.0   2.0\n",
       "6       [Pão, Café]       [Manteiga]      0.3        1.0   2.0"
      ]
     },
     "execution_count": 32,
     "metadata": {},
     "output_type": "execute_result"
    }
   ],
   "source": [
    "# Visualizando as regras atravez de um dataframe\n",
    "\n",
    "Antecedente = []\n",
    "Consequente = []\n",
    "suporte = []\n",
    "confianca = []\n",
    "lift = []\n",
    "\n",
    "for resultado in results:\n",
    "  s = resultado[1]\n",
    "  result_rules = resultado[2]\n",
    "  for result_rule in result_rules:\n",
    "    a = list(result_rule[0])\n",
    "    b = list(result_rule[1])\n",
    "    c = result_rule[2]\n",
    "    l = result_rule[3]\n",
    "    if 'nan' in a or 'nan' in b: continue\n",
    "    if len(a) == 0 or len(b) == 0: continue\n",
    "    Antecedente.append(a)\n",
    "    Consequente.append(b)\n",
    "    suporte.append(s)\n",
    "    confianca.append(c)\n",
    "    lift.append(l)\n",
    "    RegrasFinais = pd.DataFrame({'Antecedente': Antecedente, 'Consequente': Consequente, 'suporte': suporte, 'confianca': confianca, 'lift': lift})\n",
    "\n",
    "RegrasFinais"
   ]
  }
 ],
 "metadata": {
  "kernelspec": {
   "display_name": ".venv",
   "language": "python",
   "name": "python3"
  },
  "language_info": {
   "codemirror_mode": {
    "name": "ipython",
    "version": 3
   },
   "file_extension": ".py",
   "mimetype": "text/x-python",
   "name": "python",
   "nbconvert_exporter": "python",
   "pygments_lexer": "ipython3",
   "version": "3.10.12"
  },
  "orig_nbformat": 4
 },
 "nbformat": 4,
 "nbformat_minor": 2
}
